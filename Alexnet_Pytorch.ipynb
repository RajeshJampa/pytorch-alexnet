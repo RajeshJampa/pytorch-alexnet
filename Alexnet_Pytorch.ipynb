{
  "nbformat": 4,
  "nbformat_minor": 0,
  "metadata": {
    "colab": {
      "name": "Alexnet_Pytorch.ipynb",
      "provenance": []
    },
    "kernelspec": {
      "name": "python3",
      "display_name": "Python 3"
    },
    "accelerator": "GPU"
  },
  "cells": [
    {
      "cell_type": "code",
      "metadata": {
        "colab": {
          "base_uri": "https://localhost:8080/"
        },
        "id": "-HePXK05f-0w",
        "outputId": "80043ab0-12cf-4150-b91a-36fa37d82204"
      },
      "source": [
        "!nvidia-smi"
      ],
      "execution_count": 1,
      "outputs": [
        {
          "output_type": "stream",
          "text": [
            "Fri Feb 19 10:01:02 2021       \n",
            "+-----------------------------------------------------------------------------+\n",
            "| NVIDIA-SMI 460.39       Driver Version: 460.32.03    CUDA Version: 11.2     |\n",
            "|-------------------------------+----------------------+----------------------+\n",
            "| GPU  Name        Persistence-M| Bus-Id        Disp.A | Volatile Uncorr. ECC |\n",
            "| Fan  Temp  Perf  Pwr:Usage/Cap|         Memory-Usage | GPU-Util  Compute M. |\n",
            "|                               |                      |               MIG M. |\n",
            "|===============================+======================+======================|\n",
            "|   0  Tesla T4            Off  | 00000000:00:04.0 Off |                    0 |\n",
            "| N/A   66C    P8    11W /  70W |      0MiB / 15109MiB |      0%      Default |\n",
            "|                               |                      |                  N/A |\n",
            "+-------------------------------+----------------------+----------------------+\n",
            "                                                                               \n",
            "+-----------------------------------------------------------------------------+\n",
            "| Processes:                                                                  |\n",
            "|  GPU   GI   CI        PID   Type   Process name                  GPU Memory |\n",
            "|        ID   ID                                                   Usage      |\n",
            "|=============================================================================|\n",
            "|  No running processes found                                                 |\n",
            "+-----------------------------------------------------------------------------+\n"
          ],
          "name": "stdout"
        }
      ]
    },
    {
      "cell_type": "code",
      "metadata": {
        "id": "GQsGoprKbl-D"
      },
      "source": [
        "from __future__ import print_function\r\n",
        "import torch"
      ],
      "execution_count": 2,
      "outputs": []
    },
    {
      "cell_type": "code",
      "metadata": {
        "colab": {
          "base_uri": "https://localhost:8080/"
        },
        "id": "gmO7TRV-d2j_",
        "outputId": "6b9b1197-4514-4f09-ffb8-a567cd54b482"
      },
      "source": [
        "#empty gives unknown uniniliazed matrix,whatever values were allocated in the memory will appear as intial values\r\n",
        "#Here 5 and 4 represents number of rows and columns in the matrix\r\n",
        "#whatever values appeared first,so it doesnt work like rand\r\n",
        "a=torch.empty(5,4)\r\n",
        "print(a)"
      ],
      "execution_count": 3,
      "outputs": [
        {
          "output_type": "stream",
          "text": [
            "tensor([[5.9333e-36, 0.0000e+00, 7.0065e-44, 6.8664e-44],\n",
            "        [6.3058e-44, 6.7262e-44, 7.0065e-44, 6.3058e-44],\n",
            "        [6.8664e-44, 7.9874e-44, 1.1771e-43, 6.8664e-44],\n",
            "        [6.7262e-44, 8.1275e-44, 6.7262e-44, 6.8664e-44],\n",
            "        [8.1275e-44, 6.8664e-44, 7.1466e-44, 6.4460e-44]])\n"
          ],
          "name": "stdout"
        }
      ]
    },
    {
      "cell_type": "code",
      "metadata": {
        "colab": {
          "base_uri": "https://localhost:8080/"
        },
        "id": "cWiJ8x1TfJOS",
        "outputId": "e3329ee9-6b64-45a8-9d2b-dbbdd756aa21"
      },
      "source": [
        "b=torch.rand(5,4)\r\n",
        "print(b)"
      ],
      "execution_count": 4,
      "outputs": [
        {
          "output_type": "stream",
          "text": [
            "tensor([[0.6651, 0.7171, 0.3126, 0.4585],\n",
            "        [0.5928, 0.4963, 0.7056, 0.4516],\n",
            "        [0.7913, 0.0817, 0.3687, 0.4202],\n",
            "        [0.5351, 0.1999, 0.9278, 0.7861],\n",
            "        [0.3347, 0.0904, 0.6569, 0.7698]])\n"
          ],
          "name": "stdout"
        }
      ]
    },
    {
      "cell_type": "code",
      "metadata": {
        "colab": {
          "base_uri": "https://localhost:8080/"
        },
        "id": "EZrp_bU8fc0T",
        "outputId": "1bd3afca-3682-405c-9345-07a65f207dfc"
      },
      "source": [
        "c=torch.tensor([5,4])\r\n",
        "print(c)"
      ],
      "execution_count": 5,
      "outputs": [
        {
          "output_type": "stream",
          "text": [
            "tensor([5, 4])\n"
          ],
          "name": "stdout"
        }
      ]
    },
    {
      "cell_type": "code",
      "metadata": {
        "colab": {
          "base_uri": "https://localhost:8080/"
        },
        "id": "6VHmBs-qf1fO",
        "outputId": "c9767876-c3a4-447a-cc5d-83fd8b683e24"
      },
      "source": [
        "c=c.new_ones(5,4,dtype=torch.float)\r\n",
        "print(c)\r\n",
        "c=torch.randn_like(c,dtype=torch.float)\r\n",
        "print(c)"
      ],
      "execution_count": 6,
      "outputs": [
        {
          "output_type": "stream",
          "text": [
            "tensor([[1., 1., 1., 1.],\n",
            "        [1., 1., 1., 1.],\n",
            "        [1., 1., 1., 1.],\n",
            "        [1., 1., 1., 1.],\n",
            "        [1., 1., 1., 1.]])\n",
            "tensor([[-0.3030, -0.3784,  0.1187,  0.1845],\n",
            "        [-0.6022, -0.8687,  0.3719,  2.4439],\n",
            "        [ 0.4232, -2.4273, -0.9538,  0.2081],\n",
            "        [ 0.2393,  1.0095,  0.7916,  2.5159],\n",
            "        [-1.8034,  1.0484,  1.0860, -0.6205]])\n"
          ],
          "name": "stdout"
        }
      ]
    },
    {
      "cell_type": "code",
      "metadata": {
        "colab": {
          "base_uri": "https://localhost:8080/"
        },
        "id": "LqUOKklXgxM4",
        "outputId": "ad867cf2-cafe-4c55-a640-0f878e5eefb2"
      },
      "source": [
        "d=torch.randn(5,4)\r\n",
        "print(torch.add(c,d))"
      ],
      "execution_count": 7,
      "outputs": [
        {
          "output_type": "stream",
          "text": [
            "tensor([[-1.7180, -0.9906,  1.4800, -0.0705],\n",
            "        [-1.2225,  0.2817, -0.2577,  2.1691],\n",
            "        [ 1.1459, -1.9169, -0.1455,  0.9591],\n",
            "        [-0.6983,  0.8649, -1.0183,  2.1650],\n",
            "        [-2.0617,  1.6943,  1.2081, -1.1174]])\n"
          ],
          "name": "stdout"
        }
      ]
    },
    {
      "cell_type": "code",
      "metadata": {
        "colab": {
          "base_uri": "https://localhost:8080/"
        },
        "id": "90KTmdhrf2N9",
        "outputId": "3bc1c76c-a7ef-474c-fcf8-9db27f7dea9b"
      },
      "source": [
        "b=torch.empty(5,4)\r\n",
        "c=torch.empty(5,4)\r\n",
        "print(b)\r\n",
        "print(c)"
      ],
      "execution_count": 8,
      "outputs": [
        {
          "output_type": "stream",
          "text": [
            "tensor([[5.9334e-36, 0.0000e+00, 7.0065e-44, 6.8664e-44],\n",
            "        [6.3058e-44, 6.7262e-44, 7.0065e-44, 6.3058e-44],\n",
            "        [6.8664e-44, 7.9874e-44, 1.1771e-43, 6.8664e-44],\n",
            "        [6.7262e-44, 8.1275e-44, 6.7262e-44, 6.8664e-44],\n",
            "        [8.1275e-44, 7.0065e-44, 7.8473e-44, 6.4460e-44]])\n",
            "tensor([[5.9334e-36, 0.0000e+00, 3.1264e-01, 4.5847e-01],\n",
            "        [5.9281e-01, 4.9635e-01, 7.0560e-01, 4.5160e-01],\n",
            "        [7.9126e-01, 8.1732e-02, 3.6869e-01, 4.2016e-01],\n",
            "        [5.3514e-01, 1.9986e-01, 9.2780e-01, 7.8614e-01],\n",
            "        [3.3470e-01, 9.0412e-02, 6.5695e-01, 7.6985e-01]])\n"
          ],
          "name": "stdout"
        }
      ]
    },
    {
      "cell_type": "code",
      "metadata": {
        "colab": {
          "base_uri": "https://localhost:8080/"
        },
        "id": "U-9tdVM_f2Pb",
        "outputId": "1fb99226-3eb7-4155-f3be-64a42fc78126"
      },
      "source": [
        "print(b.add(c))"
      ],
      "execution_count": 9,
      "outputs": [
        {
          "output_type": "stream",
          "text": [
            "tensor([[1.1867e-35, 0.0000e+00, 3.1264e-01, 4.5847e-01],\n",
            "        [5.9281e-01, 4.9635e-01, 7.0560e-01, 4.5160e-01],\n",
            "        [7.9126e-01, 8.1732e-02, 3.6869e-01, 4.2016e-01],\n",
            "        [5.3514e-01, 1.9986e-01, 9.2780e-01, 7.8614e-01],\n",
            "        [3.3470e-01, 9.0412e-02, 6.5695e-01, 7.6985e-01]])\n"
          ],
          "name": "stdout"
        }
      ]
    },
    {
      "cell_type": "code",
      "metadata": {
        "colab": {
          "base_uri": "https://localhost:8080/"
        },
        "id": "eGxw5gZcqur-",
        "outputId": "fd6fc54e-71b8-4b6e-8886-82b4c5a05621"
      },
      "source": [
        "if torch.cuda.is_available():\r\n",
        "  device=torch.device(\"cuda\") #a cuda object\r\n",
        "  y=torch.ones_like(c,device=device)  #directly create a tensor on gpu\r\n",
        "  c=c.to(device)    #move the tensor to gpu\r\n",
        "  z=y+c\r\n",
        "  print(z)"
      ],
      "execution_count": 10,
      "outputs": [
        {
          "output_type": "stream",
          "text": [
            "tensor([[1.0000, 1.0000, 1.3126, 1.4585],\n",
            "        [1.5928, 1.4963, 1.7056, 1.4516],\n",
            "        [1.7913, 1.0817, 1.3687, 1.4202],\n",
            "        [1.5351, 1.1999, 1.9278, 1.7861],\n",
            "        [1.3347, 1.0904, 1.6569, 1.7698]], device='cuda:0')\n"
          ],
          "name": "stdout"
        }
      ]
    },
    {
      "cell_type": "code",
      "metadata": {
        "colab": {
          "base_uri": "https://localhost:8080/"
        },
        "id": "c7-MrlNwWqc5",
        "outputId": "e8305104-13b0-41c1-b144-edefc53a135b"
      },
      "source": [
        "device"
      ],
      "execution_count": 11,
      "outputs": [
        {
          "output_type": "execute_result",
          "data": {
            "text/plain": [
              "device(type='cuda')"
            ]
          },
          "metadata": {
            "tags": []
          },
          "execution_count": 11
        }
      ]
    },
    {
      "cell_type": "markdown",
      "metadata": {
        "id": "2jsYL9LtuhAM"
      },
      "source": [
        "# Alexnet neural network"
      ]
    },
    {
      "cell_type": "code",
      "metadata": {
        "colab": {
          "base_uri": "https://localhost:8080/"
        },
        "id": "HZWE0nsTupBg",
        "outputId": "46b1abaa-bbd6-4e6e-de29-602dd0e2b097"
      },
      "source": [
        "import torch\r\n",
        "import torch.nn as nn\r\n",
        "import torch.nn.functional as F\r\n",
        "from torchsummary import summary\r\n",
        "out_classes = 10\r\n",
        "\r\n",
        "def conv_block(in_channels, out_channels,kernel=3,s=1,p=1, pool=False):\r\n",
        "    layers = [nn.Conv2d(in_channels, out_channels, kernel_size=kernel,stride=s,padding=p), \r\n",
        "              nn.BatchNorm2d(out_channels), \r\n",
        "              nn.ReLU(inplace=True)]\r\n",
        "    if pool: layers.append(nn.MaxPool2d(2))\r\n",
        "    return nn.Sequential(*layers)\r\n",
        "\r\n",
        "class neural_network(nn.Module):\r\n",
        "\r\n",
        "  def __init__(self):\r\n",
        "    super(neural_network,self).__init__()\r\n",
        "    #3,224,224\r\n",
        "    self.conv1 = conv_block(3, 96,kernel=11,s=4,p=1,pool=True) #96,54,54 --> #96,27,27\r\n",
        "    self.conv2 = conv_block(96, 256,kernel=5,s=1,p=2,pool=True) #256,27,27 --> #256,13,13\r\n",
        "    self.conv3= conv_block(256,384,kernel=3,s=1,p=1)#384,13,13\r\n",
        "    self.conv4= conv_block(384,384,kernel=3,s=1,p=1)#384,13,13\r\n",
        "    self.conv5= conv_block(384, 256,kernel=3,s=1,p=1,pool=True)#256,6,6\r\n",
        "    self.flatten = nn.Flatten()#256*6*6\r\n",
        "    self.drop = nn.Dropout(0.5)\r\n",
        "    self.fc1=nn.Linear(256*6*6,4096)\r\n",
        "    self.fc2=nn.Linear(4096,1000)\r\n",
        "    self.fc3=nn.Linear(1000,out_classes)\r\n",
        "    self.soft=nn.Softmax(dim=1)\r\n",
        "\r\n",
        "  def forward(self,x):\r\n",
        "    out = self.conv1(x)\r\n",
        "    out = self.conv2(out)\r\n",
        "    out = self.conv3(out)\r\n",
        "    out = self.conv4(out)\r\n",
        "    out = self.conv5(out)\r\n",
        "    out = self.flatten(out)\r\n",
        "    out = self.drop(out)\r\n",
        "    out = self.fc1(out)\r\n",
        "    out = self.fc2(out)\r\n",
        "    out = self.fc3(out)\r\n",
        "    out = self.soft(out)\r\n",
        "    \r\n",
        "    return out\r\n",
        "\r\n",
        "x = torch.randn(1,1,32,32)\r\n",
        "model=neural_network()\r\n",
        "device = torch.device('cuda:0' if torch.cuda.is_available() else 'cpu')\r\n",
        "\r\n",
        "x=torch.FloatTensor(x).to(device)\r\n",
        "model=model.to(device)\r\n",
        "summary(model,(3,227,227))\r\n"
      ],
      "execution_count": 12,
      "outputs": [
        {
          "output_type": "stream",
          "text": [
            "----------------------------------------------------------------\n",
            "        Layer (type)               Output Shape         Param #\n",
            "================================================================\n",
            "            Conv2d-1           [-1, 96, 54, 54]          34,944\n",
            "       BatchNorm2d-2           [-1, 96, 54, 54]             192\n",
            "              ReLU-3           [-1, 96, 54, 54]               0\n",
            "         MaxPool2d-4           [-1, 96, 27, 27]               0\n",
            "            Conv2d-5          [-1, 256, 27, 27]         614,656\n",
            "       BatchNorm2d-6          [-1, 256, 27, 27]             512\n",
            "              ReLU-7          [-1, 256, 27, 27]               0\n",
            "         MaxPool2d-8          [-1, 256, 13, 13]               0\n",
            "            Conv2d-9          [-1, 384, 13, 13]         885,120\n",
            "      BatchNorm2d-10          [-1, 384, 13, 13]             768\n",
            "             ReLU-11          [-1, 384, 13, 13]               0\n",
            "           Conv2d-12          [-1, 384, 13, 13]       1,327,488\n",
            "      BatchNorm2d-13          [-1, 384, 13, 13]             768\n",
            "             ReLU-14          [-1, 384, 13, 13]               0\n",
            "           Conv2d-15          [-1, 256, 13, 13]         884,992\n",
            "      BatchNorm2d-16          [-1, 256, 13, 13]             512\n",
            "             ReLU-17          [-1, 256, 13, 13]               0\n",
            "        MaxPool2d-18            [-1, 256, 6, 6]               0\n",
            "          Flatten-19                 [-1, 9216]               0\n",
            "          Dropout-20                 [-1, 9216]               0\n",
            "           Linear-21                 [-1, 4096]      37,752,832\n",
            "           Linear-22                 [-1, 1000]       4,097,000\n",
            "           Linear-23                   [-1, 17]          17,017\n",
            "          Softmax-24                   [-1, 17]               0\n",
            "================================================================\n",
            "Total params: 45,616,801\n",
            "Trainable params: 45,616,801\n",
            "Non-trainable params: 0\n",
            "----------------------------------------------------------------\n",
            "Input size (MB): 0.57\n",
            "Forward/backward pass size (MB): 15.75\n",
            "Params size (MB): 174.01\n",
            "Estimated Total Size (MB): 190.34\n",
            "----------------------------------------------------------------\n"
          ],
          "name": "stdout"
        }
      ]
    },
    {
      "cell_type": "code",
      "metadata": {
        "id": "Vt8ryTpc9vMh"
      },
      "source": [
        "\r\n",
        "\r\n"
      ],
      "execution_count": null,
      "outputs": []
    }
  ]
}